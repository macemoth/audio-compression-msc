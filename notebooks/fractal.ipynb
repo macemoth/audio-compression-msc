{
 "cells": [
  {
   "cell_type": "markdown",
   "id": "6e046227-9e13-4650-b2e8-6b05bd4ddf1f",
   "metadata": {},
   "source": [
    "# Fractal compression"
   ]
  },
  {
   "cell_type": "code",
   "execution_count": 1,
   "id": "b44f8762",
   "metadata": {},
   "outputs": [],
   "source": [
    "import librosa\n",
    "import librosa.core.spectrum\n",
    "import numpy as np\n",
    "import matplotlib.pyplot as plt\n",
    "import soundfile as sf\n",
    "import math\n",
    "from scipy import ndimage\n",
    "from scipy import optimize\n",
    "import matplotlib.image as mpimg"
   ]
  },
  {
   "cell_type": "code",
   "execution_count": 2,
   "id": "dd7ee12c",
   "metadata": {},
   "outputs": [],
   "source": [
    "# read file (stereo)\n",
    "original, fs = librosa.core.load(\"../data/trance.wav\", sr=44100, mono=False)"
   ]
  },
  {
   "cell_type": "code",
   "execution_count": 3,
   "id": "1e4f2c44",
   "metadata": {},
   "outputs": [],
   "source": [
    "# process\n",
    "spectrogram = [librosa.core.stft(original[0], n_fft=1024), librosa.core.stft(original[1], n_fft=1024)]\n",
    "abs_spectrogram = np.abs(spectrogram)"
   ]
  },
  {
   "cell_type": "code",
   "execution_count": 4,
   "id": "ad3b2611",
   "metadata": {},
   "outputs": [
    {
     "data": {
      "text/plain": [
       "(2, 513, 4101)"
      ]
     },
     "execution_count": 4,
     "metadata": {},
     "output_type": "execute_result"
    }
   ],
   "source": [
    "# quantisation\n",
    "quantised_spectrogram = (10 * np.sqrt(abs_spectrogram, out=np.zeros_like(abs_spectrogram), where=(abs_spectrogram != 0))).round()"
   ]
  },
  {
   "cell_type": "code",
   "execution_count": 29,
   "id": "b4cea62d",
   "metadata": {},
   "outputs": [],
   "source": [
    "# Code taken from https://github.com/pvigier/fractal-image-compression\n",
    "def get_greyscale_image(img):\n",
    "    return np.mean(img[:,:,:2], 2)\n",
    "\n",
    "def extract_rgb(img):\n",
    "    return img[:,:,0], img[:,:,1], img[:,:,2]\n",
    "\n",
    "def assemble_rbg(img_r, img_g, img_b):\n",
    "    shape = (img_r.shape[0], img_r.shape[1], 1)\n",
    "    return np.concatenate((np.reshape(img_r, shape), np.reshape(img_g, shape), \n",
    "        np.reshape(img_b, shape)), axis=2)\n",
    "\n",
    "def reduce(img, factor):\n",
    "    result = np.zeros((img.shape[0] // factor, img.shape[1] // factor))\n",
    "    for i in range(result.shape[0]):\n",
    "        for j in range(result.shape[1]):\n",
    "            result[i,j] = np.mean(img[i*factor:(i+1)*factor,j*factor:(j+1)*factor])\n",
    "    return result\n",
    "\n",
    "def rotate(img, angle):\n",
    "    return ndimage.rotate(img, angle, reshape=False)\n",
    "\n",
    "def flip(img, direction):\n",
    "    return img[::direction,:]\n",
    "\n",
    "def apply_transformation(img, direction, angle, contrast=1.0, brightness=0.0):\n",
    "    return contrast*rotate(flip(img, direction), angle) + brightness\n",
    "\n",
    "def find_contrast_and_brightness1(D, S):\n",
    "    # Fix the contrast and only fit the brightness\n",
    "    contrast = 0.75\n",
    "    brightness = (np.sum(D - contrast*S)) / D.size\n",
    "    return contrast, brightness \n",
    "\n",
    "def find_contrast_and_brightness2(D, S):\n",
    "    # Fit the contrast and the brightness\n",
    "    A = np.concatenate((np.ones((S.size, 1)), np.reshape(S, (S.size, 1))), axis=1)\n",
    "    b = np.reshape(D, (D.size,))\n",
    "    x, _, _, _ = np.linalg.lstsq(A, b)\n",
    "    #x = optimize.lsq_linear(A, b, [(-np.inf, -2.0), (np.inf, 2.0)]).x\n",
    "    return x[1], x[0]\n",
    "\n",
    "def generate_all_transformed_blocks(img, source_size, destination_size, step):\n",
    "    factor = source_size // destination_size\n",
    "    transformed_blocks = []\n",
    "    for k in range((img.shape[0] - source_size) // step + 1):\n",
    "        for l in range((img.shape[1] - source_size) // step + 1):\n",
    "            # Extract the source block and reduce it to the shape of a destination block\n",
    "            S = reduce(img[k*step:k*step+source_size,l*step:l*step+source_size], factor)\n",
    "            # Generate all possible transformed blocks\n",
    "            transformed_blocks.append((k, l, 1, 0, apply_transformation(S, 1, 0)))\n",
    "            #for direction, angle in candidates:\n",
    "            #    transformed_blocks.append((k, l, direction, angle, apply_transformation(S, direction, angle)))\n",
    "    return transformed_blocks\n",
    "\n",
    "def compress(img, source_size, destination_size, step):\n",
    "    transformations = []\n",
    "    transformed_blocks = generate_all_transformed_blocks(img, source_size, destination_size, step)\n",
    "    i_count = img.shape[0] // destination_size\n",
    "    j_count = img.shape[1] // destination_size\n",
    "    for i in range(i_count):\n",
    "        transformations.append([])\n",
    "        print(f\"{i}/{i_count}\")\n",
    "        for j in range(j_count):\n",
    "            transformations[i].append(None)\n",
    "            min_d = float('inf')\n",
    "            # Extract the destination block\n",
    "            D = img[i*destination_size:(i+1)*destination_size,j*destination_size:(j+1)*destination_size]\n",
    "            # Test all possible transformations and take the best one\n",
    "            for k, l, direction, angle, S in transformed_blocks:\n",
    "                contrast, brightness = find_contrast_and_brightness2(D, S)\n",
    "                S = contrast*S + brightness\n",
    "                d = np.sum(np.square(D - S))\n",
    "                if d < min_d:\n",
    "                    min_d = d\n",
    "                    transformations[i][j] = (k, l, direction, angle, contrast, brightness)\n",
    "    return transformations\n",
    "\n",
    "def decompress(transformations, source_size, destination_size, step, nb_iter=8):\n",
    "    factor = source_size // destination_size\n",
    "    height = len(transformations) * destination_size\n",
    "    width = len(transformations[0]) * destination_size\n",
    "    iterations = [np.random.randint(0, 256, (height, width))]\n",
    "    cur_img = np.zeros((height, width))\n",
    "    for i_iter in range(nb_iter):\n",
    "        # print(i_iter)\n",
    "        for i in range(len(transformations)):\n",
    "            for j in range(len(transformations[i])):\n",
    "                # Apply transform\n",
    "                k, l, flip, angle, contrast, brightness = transformations[i][j]\n",
    "                S = reduce(iterations[-1][k*step:k*step+source_size,l*step:l*step+source_size], factor)\n",
    "                D = apply_transformation(S, flip, angle, contrast, brightness)\n",
    "                cur_img[i*destination_size:(i+1)*destination_size,j*destination_size:(j+1)*destination_size] = D\n",
    "        iterations.append(cur_img)\n",
    "        cur_img = np.zeros((height, width))\n",
    "    return iterations\n",
    "\n",
    "\n",
    "def plot_iterations(iterations, target=None):\n",
    "    # Configure plot\n",
    "    plt.figure()\n",
    "    nb_row = math.ceil(np.sqrt(len(iterations)))\n",
    "    nb_cols = nb_row\n",
    "    # Plot\n",
    "    for i, img in enumerate(iterations):\n",
    "        plt.subplot(nb_row, nb_cols, i+1)\n",
    "        plt.imshow(img, cmap='gray', vmin=0, vmax=255, interpolation='none')\n",
    "        if target is None:\n",
    "            plt.title(str(i))\n",
    "        else:\n",
    "            # Display the RMSE\n",
    "            plt.title(str(i) + ' (' + '{0:.2f}'.format(np.sqrt(np.mean(np.square(target - img)))) + ')')\n",
    "        frame = plt.gca()\n",
    "        frame.axes.get_xaxis().set_visible(False)\n",
    "        frame.axes.get_yaxis().set_visible(False)\n",
    "    plt.tight_layout()\n",
    "\n",
    "# Parameters\n",
    "\n",
    "directions = [1, -1]\n",
    "angles = [0, 90, 180, 270]\n",
    "candidates = [[direction, angle] for direction in directions for angle in angles]\n",
    "\n",
    "# Tests\n",
    "\n",
    "def test_greyscale():\n",
    "    img = mpimg.imread('monkey.gif')\n",
    "    img = get_greyscale_image(img)\n",
    "    img = reduce(img, 4)\n",
    "    plt.figure()\n",
    "    plt.imshow(img, cmap='gray', interpolation='none')\n",
    "    transformations = compress(img, 8, 4, 8)\n",
    "    iterations = decompress(transformations, 8, 4, 8)\n",
    "    plot_iterations(iterations, img)\n",
    "    plt.show()\n"
   ]
  },
  {
   "cell_type": "code",
   "execution_count": 75,
   "id": "d395f4da-ddb2-4332-809b-b4c9a7c71567",
   "metadata": {},
   "outputs": [
    {
     "data": {
      "text/plain": [
       "<matplotlib.image.AxesImage at 0x120a51ed0>"
      ]
     },
     "execution_count": 75,
     "metadata": {},
     "output_type": "execute_result"
    },
    {
     "data": {
      "image/png": "[encoded data removed]",
      "text/plain": [
       "<Figure size 480x480 with 1 Axes>"
      ]
     },
     "metadata": {},
     "output_type": "display_data"
    }
   ],
   "source": [
    "# Cut frequency spectrum and start from audio beginning\n",
    "window = quantised_spectrogram[0, :50, 150:200]\n",
    "plt.matshow(window)"
   ]
  },
  {
   "cell_type": "code",
   "execution_count": 76,
   "id": "5003789d-d575-4ac7-8a5f-2b9f87a9ac03",
   "metadata": {},
   "outputs": [
    {
     "name": "stdout",
     "output_type": "stream",
     "text": [
      "0/12\n",
      "1/12\n",
      "2/12\n",
      "3/12\n",
      "4/12\n",
      "5/12\n"
     ]
    },
    {
     "name": "stderr",
     "output_type": "stream",
     "text": [
      "/var/folders/sq/jtfxrmx95_j9gpqlvwrkwsvr0000gn/T/ipykernel_1791/1409158747.py:39: FutureWarning: `rcond` parameter will change to the default of machine precision times ``max(M, N)`` where M and N are the input matrix dimensions.\n",
      "To use the future default and silence this warning we advise to pass `rcond=None`, to keep using the old, explicitly pass `rcond=-1`.\n",
      "  x, _, _, _ = np.linalg.lstsq(A, b)\n"
     ]
    },
    {
     "name": "stdout",
     "output_type": "stream",
     "text": [
      "6/12\n",
      "7/12\n",
      "8/12\n",
      "9/12\n",
      "10/12\n",
      "11/12\n"
     ]
    }
   ],
   "source": [
    "# Compress\n",
    "transformations = compress(window, 8, 4, 8)"
   ]
  },
  {
   "cell_type": "code",
   "execution_count": 77,
   "id": "11ffc507-a347-479e-8fc4-b087e7e8ee5b",
   "metadata": {},
   "outputs": [],
   "source": [
    "# Decompress\n",
    "reproductions = decompress(transformations, 8, 4, 8, nb_iter=30)"
   ]
  },
  {
   "cell_type": "code",
   "execution_count": 81,
   "id": "4eaa3206-efeb-490a-a2eb-d00ec7f1a00c",
   "metadata": {},
   "outputs": [
    {
     "data": {
      "text/plain": [
       "<matplotlib.image.AxesImage at 0x121314b80>"
      ]
     },
     "execution_count": 81,
     "metadata": {},
     "output_type": "execute_result"
    },
    {
     "data": {
      "image/png": "[encoded data removed]",
      "text/plain": [
       "<Figure size 480x480 with 1 Axes>"
      ]
     },
     "metadata": {},
     "output_type": "display_data"
    }
   ],
   "source": [
    "plt.matshow(reproductions[30])"
   ]
  },
  {
   "cell_type": "code",
   "execution_count": null,
   "id": "523d1642-2a72-4826-9d0f-1da197e7a115",
   "metadata": {},
   "outputs": [],
   "source": [
    "# For graphics\n",
    "for i, r in enumerate(reproductions):\n",
    "    if i % 5 == 0:\n",
    "        print(i)\n",
    "        plt.matshow(r)\n",
    "        plt.axis(\"off\")"
   ]
  }
 ],
 "metadata": {
  "kernelspec": {
   "display_name": "Python 3 (ipykernel)",
   "language": "python",
   "name": "python3"
  },
  "language_info": {
   "codemirror_mode": {
    "name": "ipython",
    "version": 3
   },
   "file_extension": ".py",
   "mimetype": "text/x-python",
   "name": "python",
   "nbconvert_exporter": "python",
   "pygments_lexer": "ipython3",
   "version": "3.10.9"
  }
 },
 "nbformat": 4,
 "nbformat_minor": 5
}
